{
  "nbformat": 4,
  "nbformat_minor": 0,
  "metadata": {
    "colab": {
      "provenance": [],
      "toc_visible": true
    },
    "kernelspec": {
      "name": "python3",
      "display_name": "Python 3"
    },
    "language_info": {
      "name": "python"
    }
  },
  "cells": [
    {
      "cell_type": "markdown",
      "source": [
        "# **Exploratory Analysis of Book Metadata**\n",
        "\n",
        "---"
      ],
      "metadata": {
        "id": "Tpbhig3ta3I4"
      }
    },
    {
      "cell_type": "markdown",
      "source": [
        "# Project Overview"
      ],
      "metadata": {
        "id": "iAqHpZEKbTAq"
      }
    },
    {
      "cell_type": "markdown",
      "source": [
        "Dataset : https://www.kaggle.com/datasets/madankhatri123h/books-dataset"
      ],
      "metadata": {
        "id": "KApdjcQ3j3jO"
      }
    },
    {
      "cell_type": "markdown",
      "source": [
        "📚 Latar Belakang\n",
        "\n",
        "Industri penerbitan buku terus berkembang seiring meningkatnya akses pembaca terhadap berbagai sumber digital. Untuk membantu pemahaman yang lebih baik tentang tren literasi dan produksi buku, analisis data diperlukan untuk menjawab pertanyaan-pertanyaan seperti:\n",
        "1. Buku berbahasa apa yang paling umum tersedia?\n",
        "2. Penerbit mana yang paling aktif menerbitkan buku?\n",
        "3. Genre apa yang paling banyak diproduksi?\n",
        "\n",
        "Dengan menjawab pertanyaan-pertanyaan tersebut, stakeholder seperti penulis, penerbit, dan pengembang aplikasi buku dapat membuat keputusan berbasis data."
      ],
      "metadata": {
        "id": "taLOIVQGblW1"
      }
    },
    {
      "cell_type": "markdown",
      "source": [
        "🎯 Tujuan Proyek\n",
        "\n",
        "Tujuan dari proyek ini adalah untuk melakukan eksplorasi awal (Exploratory Data Analysis / EDA) terhadap dataset buku guna memahami karakteristik dasar dari kumpulan data tersebut, khususnya dari segi bahasa buku, penerbit terbanyak, dan genre yang paling umum. Hasil dari EDA ini dapat digunakan sebagai dasar untuk pengembangan sistem rekomendasi buku, pengelompokan pengguna berdasarkan preferensi, atau strategi distribusi konten oleh penerbit."
      ],
      "metadata": {
        "id": "A1gjQGA6bd9T"
      }
    },
    {
      "cell_type": "markdown",
      "source": [
        "🧩 Permasalahan\n",
        "\n",
        "Beberapa permasalahan spesifik yang ingin dijawab dalam proyek ini adalah\n",
        "1. Bahasa apa yang paling umum digunakan dalam buku-buku di dataset ini?\n",
        "2. Penerbit mana yang paling banyak menerbitkan buku?\n",
        "3. Genre apa yang paling sering muncul?\n",
        "\n",
        "Ketiga hal ini merupakan aspek fundamental dalam memahami karakteristik distribusi konten literasi dalam dataset."
      ],
      "metadata": {
        "id": "1hqhHMS2b1ob"
      }
    },
    {
      "cell_type": "markdown",
      "source": [
        "🧭 Pendekatan\n",
        "\n",
        "Untuk menjawab permasalahan tersebut, pendekatan eksploratif akan digunakan dengan :\n",
        "1. Melihat distribusi frekuensi pada kolom `language`, `publisher`, dan `genre`.\n",
        "2. Menyaring dan mengurutkan nilai berdasarkan jumlah kemunculan.\n",
        "3. Menyajikan hasil dalam bentuk tabel dan ringkasan statistik tanpa visualisasi.\n",
        "\n",
        "Pendekatan ini sederhana namun efektif untuk memperoleh wawasan awal dari data secara objektif."
      ],
      "metadata": {
        "id": "wFYBGCDvcC6C"
      }
    },
    {
      "cell_type": "markdown",
      "source": [
        "# Instaling Library"
      ],
      "metadata": {
        "id": "bYPcR6ircRvY"
      }
    },
    {
      "cell_type": "code",
      "source": [
        "!pip install langchain_community\n",
        "!pip install replicate"
      ],
      "metadata": {
        "colab": {
          "base_uri": "https://localhost:8080/"
        },
        "id": "wW5ajUIOF-gV",
        "outputId": "de075f8f-335d-40c9-c59f-7a84815a2c0d"
      },
      "execution_count": null,
      "outputs": [
        {
          "output_type": "stream",
          "name": "stdout",
          "text": [
            "Collecting langchain_community\n",
            "  Downloading langchain_community-0.3.26-py3-none-any.whl.metadata (2.9 kB)\n",
            "Collecting langchain-core<1.0.0,>=0.3.66 (from langchain_community)\n",
            "  Downloading langchain_core-0.3.66-py3-none-any.whl.metadata (5.8 kB)\n",
            "Collecting langchain<1.0.0,>=0.3.26 (from langchain_community)\n",
            "  Downloading langchain-0.3.26-py3-none-any.whl.metadata (7.8 kB)\n",
            "Requirement already satisfied: SQLAlchemy<3,>=1.4 in /usr/local/lib/python3.11/dist-packages (from langchain_community) (2.0.41)\n",
            "Requirement already satisfied: requests<3,>=2 in /usr/local/lib/python3.11/dist-packages (from langchain_community) (2.32.3)\n",
            "Requirement already satisfied: PyYAML>=5.3 in /usr/local/lib/python3.11/dist-packages (from langchain_community) (6.0.2)\n",
            "Requirement already satisfied: aiohttp<4.0.0,>=3.8.3 in /usr/local/lib/python3.11/dist-packages (from langchain_community) (3.11.15)\n",
            "Requirement already satisfied: tenacity!=8.4.0,<10,>=8.1.0 in /usr/local/lib/python3.11/dist-packages (from langchain_community) (9.1.2)\n",
            "Collecting dataclasses-json<0.7,>=0.5.7 (from langchain_community)\n",
            "  Downloading dataclasses_json-0.6.7-py3-none-any.whl.metadata (25 kB)\n",
            "Collecting pydantic-settings<3.0.0,>=2.4.0 (from langchain_community)\n",
            "  Downloading pydantic_settings-2.10.0-py3-none-any.whl.metadata (3.4 kB)\n",
            "Requirement already satisfied: langsmith>=0.1.125 in /usr/local/lib/python3.11/dist-packages (from langchain_community) (0.3.45)\n",
            "Collecting httpx-sse<1.0.0,>=0.4.0 (from langchain_community)\n",
            "  Downloading httpx_sse-0.4.0-py3-none-any.whl.metadata (9.0 kB)\n",
            "Requirement already satisfied: numpy>=1.26.2 in /usr/local/lib/python3.11/dist-packages (from langchain_community) (2.0.2)\n",
            "Requirement already satisfied: aiohappyeyeballs>=2.3.0 in /usr/local/lib/python3.11/dist-packages (from aiohttp<4.0.0,>=3.8.3->langchain_community) (2.6.1)\n",
            "Requirement already satisfied: aiosignal>=1.1.2 in /usr/local/lib/python3.11/dist-packages (from aiohttp<4.0.0,>=3.8.3->langchain_community) (1.3.2)\n",
            "Requirement already satisfied: attrs>=17.3.0 in /usr/local/lib/python3.11/dist-packages (from aiohttp<4.0.0,>=3.8.3->langchain_community) (25.3.0)\n",
            "Requirement already satisfied: frozenlist>=1.1.1 in /usr/local/lib/python3.11/dist-packages (from aiohttp<4.0.0,>=3.8.3->langchain_community) (1.7.0)\n",
            "Requirement already satisfied: multidict<7.0,>=4.5 in /usr/local/lib/python3.11/dist-packages (from aiohttp<4.0.0,>=3.8.3->langchain_community) (6.4.4)\n",
            "Requirement already satisfied: propcache>=0.2.0 in /usr/local/lib/python3.11/dist-packages (from aiohttp<4.0.0,>=3.8.3->langchain_community) (0.3.2)\n",
            "Requirement already satisfied: yarl<2.0,>=1.17.0 in /usr/local/lib/python3.11/dist-packages (from aiohttp<4.0.0,>=3.8.3->langchain_community) (1.20.1)\n",
            "Collecting marshmallow<4.0.0,>=3.18.0 (from dataclasses-json<0.7,>=0.5.7->langchain_community)\n",
            "  Downloading marshmallow-3.26.1-py3-none-any.whl.metadata (7.3 kB)\n",
            "Collecting typing-inspect<1,>=0.4.0 (from dataclasses-json<0.7,>=0.5.7->langchain_community)\n",
            "  Downloading typing_inspect-0.9.0-py3-none-any.whl.metadata (1.5 kB)\n",
            "Requirement already satisfied: langchain-text-splitters<1.0.0,>=0.3.8 in /usr/local/lib/python3.11/dist-packages (from langchain<1.0.0,>=0.3.26->langchain_community) (0.3.8)\n",
            "Requirement already satisfied: pydantic<3.0.0,>=2.7.4 in /usr/local/lib/python3.11/dist-packages (from langchain<1.0.0,>=0.3.26->langchain_community) (2.11.7)\n",
            "Requirement already satisfied: jsonpatch<2.0,>=1.33 in /usr/local/lib/python3.11/dist-packages (from langchain-core<1.0.0,>=0.3.66->langchain_community) (1.33)\n",
            "Requirement already satisfied: packaging<25,>=23.2 in /usr/local/lib/python3.11/dist-packages (from langchain-core<1.0.0,>=0.3.66->langchain_community) (24.2)\n",
            "Requirement already satisfied: typing-extensions>=4.7 in /usr/local/lib/python3.11/dist-packages (from langchain-core<1.0.0,>=0.3.66->langchain_community) (4.14.0)\n",
            "Requirement already satisfied: httpx<1,>=0.23.0 in /usr/local/lib/python3.11/dist-packages (from langsmith>=0.1.125->langchain_community) (0.28.1)\n",
            "Requirement already satisfied: orjson<4.0.0,>=3.9.14 in /usr/local/lib/python3.11/dist-packages (from langsmith>=0.1.125->langchain_community) (3.10.18)\n",
            "Requirement already satisfied: requests-toolbelt<2.0.0,>=1.0.0 in /usr/local/lib/python3.11/dist-packages (from langsmith>=0.1.125->langchain_community) (1.0.0)\n",
            "Requirement already satisfied: zstandard<0.24.0,>=0.23.0 in /usr/local/lib/python3.11/dist-packages (from langsmith>=0.1.125->langchain_community) (0.23.0)\n",
            "Collecting python-dotenv>=0.21.0 (from pydantic-settings<3.0.0,>=2.4.0->langchain_community)\n",
            "  Downloading python_dotenv-1.1.0-py3-none-any.whl.metadata (24 kB)\n",
            "Requirement already satisfied: typing-inspection>=0.4.0 in /usr/local/lib/python3.11/dist-packages (from pydantic-settings<3.0.0,>=2.4.0->langchain_community) (0.4.1)\n",
            "Requirement already satisfied: charset-normalizer<4,>=2 in /usr/local/lib/python3.11/dist-packages (from requests<3,>=2->langchain_community) (3.4.2)\n",
            "Requirement already satisfied: idna<4,>=2.5 in /usr/local/lib/python3.11/dist-packages (from requests<3,>=2->langchain_community) (3.10)\n",
            "Requirement already satisfied: urllib3<3,>=1.21.1 in /usr/local/lib/python3.11/dist-packages (from requests<3,>=2->langchain_community) (2.4.0)\n",
            "Requirement already satisfied: certifi>=2017.4.17 in /usr/local/lib/python3.11/dist-packages (from requests<3,>=2->langchain_community) (2025.6.15)\n",
            "Requirement already satisfied: greenlet>=1 in /usr/local/lib/python3.11/dist-packages (from SQLAlchemy<3,>=1.4->langchain_community) (3.2.3)\n",
            "Requirement already satisfied: anyio in /usr/local/lib/python3.11/dist-packages (from httpx<1,>=0.23.0->langsmith>=0.1.125->langchain_community) (4.9.0)\n",
            "Requirement already satisfied: httpcore==1.* in /usr/local/lib/python3.11/dist-packages (from httpx<1,>=0.23.0->langsmith>=0.1.125->langchain_community) (1.0.9)\n",
            "Requirement already satisfied: h11>=0.16 in /usr/local/lib/python3.11/dist-packages (from httpcore==1.*->httpx<1,>=0.23.0->langsmith>=0.1.125->langchain_community) (0.16.0)\n",
            "Requirement already satisfied: jsonpointer>=1.9 in /usr/local/lib/python3.11/dist-packages (from jsonpatch<2.0,>=1.33->langchain-core<1.0.0,>=0.3.66->langchain_community) (3.0.0)\n",
            "Requirement already satisfied: annotated-types>=0.6.0 in /usr/local/lib/python3.11/dist-packages (from pydantic<3.0.0,>=2.7.4->langchain<1.0.0,>=0.3.26->langchain_community) (0.7.0)\n",
            "Requirement already satisfied: pydantic-core==2.33.2 in /usr/local/lib/python3.11/dist-packages (from pydantic<3.0.0,>=2.7.4->langchain<1.0.0,>=0.3.26->langchain_community) (2.33.2)\n",
            "Collecting mypy-extensions>=0.3.0 (from typing-inspect<1,>=0.4.0->dataclasses-json<0.7,>=0.5.7->langchain_community)\n",
            "  Downloading mypy_extensions-1.1.0-py3-none-any.whl.metadata (1.1 kB)\n",
            "Requirement already satisfied: sniffio>=1.1 in /usr/local/lib/python3.11/dist-packages (from anyio->httpx<1,>=0.23.0->langsmith>=0.1.125->langchain_community) (1.3.1)\n",
            "Downloading langchain_community-0.3.26-py3-none-any.whl (2.5 MB)\n",
            "\u001b[2K   \u001b[90m━━━━━━━━━━━━━━━━━━━━━━━━━━━━━━━━━━━━━━━━\u001b[0m \u001b[32m2.5/2.5 MB\u001b[0m \u001b[31m28.9 MB/s\u001b[0m eta \u001b[36m0:00:00\u001b[0m\n",
            "\u001b[?25hDownloading dataclasses_json-0.6.7-py3-none-any.whl (28 kB)\n",
            "Downloading httpx_sse-0.4.0-py3-none-any.whl (7.8 kB)\n",
            "Downloading langchain-0.3.26-py3-none-any.whl (1.0 MB)\n",
            "\u001b[2K   \u001b[90m━━━━━━━━━━━━━━━━━━━━━━━━━━━━━━━━━━━━━━━━\u001b[0m \u001b[32m1.0/1.0 MB\u001b[0m \u001b[31m46.9 MB/s\u001b[0m eta \u001b[36m0:00:00\u001b[0m\n",
            "\u001b[?25hDownloading langchain_core-0.3.66-py3-none-any.whl (438 kB)\n",
            "\u001b[2K   \u001b[90m━━━━━━━━━━━━━━━━━━━━━━━━━━━━━━━━━━━━━━━━\u001b[0m \u001b[32m438.9/438.9 kB\u001b[0m \u001b[31m28.9 MB/s\u001b[0m eta \u001b[36m0:00:00\u001b[0m\n",
            "\u001b[?25hDownloading pydantic_settings-2.10.0-py3-none-any.whl (45 kB)\n",
            "\u001b[2K   \u001b[90m━━━━━━━━━━━━━━━━━━━━━━━━━━━━━━━━━━━━━━━━\u001b[0m \u001b[32m45.2/45.2 kB\u001b[0m \u001b[31m3.1 MB/s\u001b[0m eta \u001b[36m0:00:00\u001b[0m\n",
            "\u001b[?25hDownloading marshmallow-3.26.1-py3-none-any.whl (50 kB)\n",
            "\u001b[2K   \u001b[90m━━━━━━━━━━━━━━━━━━━━━━━━━━━━━━━━━━━━━━━━\u001b[0m \u001b[32m50.9/50.9 kB\u001b[0m \u001b[31m3.4 MB/s\u001b[0m eta \u001b[36m0:00:00\u001b[0m\n",
            "\u001b[?25hDownloading python_dotenv-1.1.0-py3-none-any.whl (20 kB)\n",
            "Downloading typing_inspect-0.9.0-py3-none-any.whl (8.8 kB)\n",
            "Downloading mypy_extensions-1.1.0-py3-none-any.whl (5.0 kB)\n",
            "Installing collected packages: python-dotenv, mypy-extensions, marshmallow, httpx-sse, typing-inspect, pydantic-settings, dataclasses-json, langchain-core, langchain, langchain_community\n",
            "  Attempting uninstall: langchain-core\n",
            "    Found existing installation: langchain-core 0.3.65\n",
            "    Uninstalling langchain-core-0.3.65:\n",
            "      Successfully uninstalled langchain-core-0.3.65\n",
            "  Attempting uninstall: langchain\n",
            "    Found existing installation: langchain 0.3.25\n",
            "    Uninstalling langchain-0.3.25:\n",
            "      Successfully uninstalled langchain-0.3.25\n",
            "Successfully installed dataclasses-json-0.6.7 httpx-sse-0.4.0 langchain-0.3.26 langchain-core-0.3.66 langchain_community-0.3.26 marshmallow-3.26.1 mypy-extensions-1.1.0 pydantic-settings-2.10.0 python-dotenv-1.1.0 typing-inspect-0.9.0\n",
            "Collecting replicate\n",
            "  Downloading replicate-1.0.7-py3-none-any.whl.metadata (29 kB)\n",
            "Requirement already satisfied: httpx<1,>=0.21.0 in /usr/local/lib/python3.11/dist-packages (from replicate) (0.28.1)\n",
            "Requirement already satisfied: packaging in /usr/local/lib/python3.11/dist-packages (from replicate) (24.2)\n",
            "Requirement already satisfied: pydantic>1.10.7 in /usr/local/lib/python3.11/dist-packages (from replicate) (2.11.7)\n",
            "Requirement already satisfied: typing_extensions>=4.5.0 in /usr/local/lib/python3.11/dist-packages (from replicate) (4.14.0)\n",
            "Requirement already satisfied: anyio in /usr/local/lib/python3.11/dist-packages (from httpx<1,>=0.21.0->replicate) (4.9.0)\n",
            "Requirement already satisfied: certifi in /usr/local/lib/python3.11/dist-packages (from httpx<1,>=0.21.0->replicate) (2025.6.15)\n",
            "Requirement already satisfied: httpcore==1.* in /usr/local/lib/python3.11/dist-packages (from httpx<1,>=0.21.0->replicate) (1.0.9)\n",
            "Requirement already satisfied: idna in /usr/local/lib/python3.11/dist-packages (from httpx<1,>=0.21.0->replicate) (3.10)\n",
            "Requirement already satisfied: h11>=0.16 in /usr/local/lib/python3.11/dist-packages (from httpcore==1.*->httpx<1,>=0.21.0->replicate) (0.16.0)\n",
            "Requirement already satisfied: annotated-types>=0.6.0 in /usr/local/lib/python3.11/dist-packages (from pydantic>1.10.7->replicate) (0.7.0)\n",
            "Requirement already satisfied: pydantic-core==2.33.2 in /usr/local/lib/python3.11/dist-packages (from pydantic>1.10.7->replicate) (2.33.2)\n",
            "Requirement already satisfied: typing-inspection>=0.4.0 in /usr/local/lib/python3.11/dist-packages (from pydantic>1.10.7->replicate) (0.4.1)\n",
            "Requirement already satisfied: sniffio>=1.1 in /usr/local/lib/python3.11/dist-packages (from anyio->httpx<1,>=0.21.0->replicate) (1.3.1)\n",
            "Downloading replicate-1.0.7-py3-none-any.whl (48 kB)\n",
            "\u001b[2K   \u001b[90m━━━━━━━━━━━━━━━━━━━━━━━━━━━━━━━━━━━━━━━━\u001b[0m \u001b[32m48.6/48.6 kB\u001b[0m \u001b[31m1.9 MB/s\u001b[0m eta \u001b[36m0:00:00\u001b[0m\n",
            "\u001b[?25hInstalling collected packages: replicate\n",
            "Successfully installed replicate-1.0.7\n"
          ]
        }
      ]
    },
    {
      "cell_type": "code",
      "source": [
        "!pip install pandas\n",
        "!pip install -U langchain langchain-community langchain-experimental replicate"
      ],
      "metadata": {
        "colab": {
          "base_uri": "https://localhost:8080/"
        },
        "id": "Ddi-8UU2Z_ls",
        "outputId": "c1f39371-1475-4600-d989-e22bce55ac31"
      },
      "execution_count": null,
      "outputs": [
        {
          "output_type": "stream",
          "name": "stdout",
          "text": [
            "Requirement already satisfied: pandas in /usr/local/lib/python3.11/dist-packages (2.2.2)\n",
            "Requirement already satisfied: numpy>=1.23.2 in /usr/local/lib/python3.11/dist-packages (from pandas) (2.0.2)\n",
            "Requirement already satisfied: python-dateutil>=2.8.2 in /usr/local/lib/python3.11/dist-packages (from pandas) (2.9.0.post0)\n",
            "Requirement already satisfied: pytz>=2020.1 in /usr/local/lib/python3.11/dist-packages (from pandas) (2025.2)\n",
            "Requirement already satisfied: tzdata>=2022.7 in /usr/local/lib/python3.11/dist-packages (from pandas) (2025.2)\n",
            "Requirement already satisfied: six>=1.5 in /usr/local/lib/python3.11/dist-packages (from python-dateutil>=2.8.2->pandas) (1.17.0)\n",
            "Requirement already satisfied: langchain in /usr/local/lib/python3.11/dist-packages (0.3.26)\n",
            "Requirement already satisfied: langchain-community in /usr/local/lib/python3.11/dist-packages (0.3.26)\n",
            "Collecting langchain-experimental\n",
            "  Downloading langchain_experimental-0.3.4-py3-none-any.whl.metadata (1.7 kB)\n",
            "Requirement already satisfied: replicate in /usr/local/lib/python3.11/dist-packages (1.0.7)\n",
            "Requirement already satisfied: langchain-core<1.0.0,>=0.3.66 in /usr/local/lib/python3.11/dist-packages (from langchain) (0.3.66)\n",
            "Requirement already satisfied: langchain-text-splitters<1.0.0,>=0.3.8 in /usr/local/lib/python3.11/dist-packages (from langchain) (0.3.8)\n",
            "Requirement already satisfied: langsmith>=0.1.17 in /usr/local/lib/python3.11/dist-packages (from langchain) (0.3.45)\n",
            "Requirement already satisfied: pydantic<3.0.0,>=2.7.4 in /usr/local/lib/python3.11/dist-packages (from langchain) (2.11.7)\n",
            "Requirement already satisfied: SQLAlchemy<3,>=1.4 in /usr/local/lib/python3.11/dist-packages (from langchain) (2.0.41)\n",
            "Requirement already satisfied: requests<3,>=2 in /usr/local/lib/python3.11/dist-packages (from langchain) (2.32.3)\n",
            "Requirement already satisfied: PyYAML>=5.3 in /usr/local/lib/python3.11/dist-packages (from langchain) (6.0.2)\n",
            "Requirement already satisfied: aiohttp<4.0.0,>=3.8.3 in /usr/local/lib/python3.11/dist-packages (from langchain-community) (3.11.15)\n",
            "Requirement already satisfied: tenacity!=8.4.0,<10,>=8.1.0 in /usr/local/lib/python3.11/dist-packages (from langchain-community) (9.1.2)\n",
            "Requirement already satisfied: dataclasses-json<0.7,>=0.5.7 in /usr/local/lib/python3.11/dist-packages (from langchain-community) (0.6.7)\n",
            "Requirement already satisfied: pydantic-settings<3.0.0,>=2.4.0 in /usr/local/lib/python3.11/dist-packages (from langchain-community) (2.10.0)\n",
            "Requirement already satisfied: httpx-sse<1.0.0,>=0.4.0 in /usr/local/lib/python3.11/dist-packages (from langchain-community) (0.4.0)\n",
            "Requirement already satisfied: numpy>=1.26.2 in /usr/local/lib/python3.11/dist-packages (from langchain-community) (2.0.2)\n",
            "Requirement already satisfied: httpx<1,>=0.21.0 in /usr/local/lib/python3.11/dist-packages (from replicate) (0.28.1)\n",
            "Requirement already satisfied: packaging in /usr/local/lib/python3.11/dist-packages (from replicate) (24.2)\n",
            "Requirement already satisfied: typing_extensions>=4.5.0 in /usr/local/lib/python3.11/dist-packages (from replicate) (4.14.0)\n",
            "Requirement already satisfied: aiohappyeyeballs>=2.3.0 in /usr/local/lib/python3.11/dist-packages (from aiohttp<4.0.0,>=3.8.3->langchain-community) (2.6.1)\n",
            "Requirement already satisfied: aiosignal>=1.1.2 in /usr/local/lib/python3.11/dist-packages (from aiohttp<4.0.0,>=3.8.3->langchain-community) (1.3.2)\n",
            "Requirement already satisfied: attrs>=17.3.0 in /usr/local/lib/python3.11/dist-packages (from aiohttp<4.0.0,>=3.8.3->langchain-community) (25.3.0)\n",
            "Requirement already satisfied: frozenlist>=1.1.1 in /usr/local/lib/python3.11/dist-packages (from aiohttp<4.0.0,>=3.8.3->langchain-community) (1.7.0)\n",
            "Requirement already satisfied: multidict<7.0,>=4.5 in /usr/local/lib/python3.11/dist-packages (from aiohttp<4.0.0,>=3.8.3->langchain-community) (6.4.4)\n",
            "Requirement already satisfied: propcache>=0.2.0 in /usr/local/lib/python3.11/dist-packages (from aiohttp<4.0.0,>=3.8.3->langchain-community) (0.3.2)\n",
            "Requirement already satisfied: yarl<2.0,>=1.17.0 in /usr/local/lib/python3.11/dist-packages (from aiohttp<4.0.0,>=3.8.3->langchain-community) (1.20.1)\n",
            "Requirement already satisfied: marshmallow<4.0.0,>=3.18.0 in /usr/local/lib/python3.11/dist-packages (from dataclasses-json<0.7,>=0.5.7->langchain-community) (3.26.1)\n",
            "Requirement already satisfied: typing-inspect<1,>=0.4.0 in /usr/local/lib/python3.11/dist-packages (from dataclasses-json<0.7,>=0.5.7->langchain-community) (0.9.0)\n",
            "Requirement already satisfied: anyio in /usr/local/lib/python3.11/dist-packages (from httpx<1,>=0.21.0->replicate) (4.9.0)\n",
            "Requirement already satisfied: certifi in /usr/local/lib/python3.11/dist-packages (from httpx<1,>=0.21.0->replicate) (2025.6.15)\n",
            "Requirement already satisfied: httpcore==1.* in /usr/local/lib/python3.11/dist-packages (from httpx<1,>=0.21.0->replicate) (1.0.9)\n",
            "Requirement already satisfied: idna in /usr/local/lib/python3.11/dist-packages (from httpx<1,>=0.21.0->replicate) (3.10)\n",
            "Requirement already satisfied: h11>=0.16 in /usr/local/lib/python3.11/dist-packages (from httpcore==1.*->httpx<1,>=0.21.0->replicate) (0.16.0)\n",
            "Requirement already satisfied: jsonpatch<2.0,>=1.33 in /usr/local/lib/python3.11/dist-packages (from langchain-core<1.0.0,>=0.3.66->langchain) (1.33)\n",
            "Requirement already satisfied: orjson<4.0.0,>=3.9.14 in /usr/local/lib/python3.11/dist-packages (from langsmith>=0.1.17->langchain) (3.10.18)\n",
            "Requirement already satisfied: requests-toolbelt<2.0.0,>=1.0.0 in /usr/local/lib/python3.11/dist-packages (from langsmith>=0.1.17->langchain) (1.0.0)\n",
            "Requirement already satisfied: zstandard<0.24.0,>=0.23.0 in /usr/local/lib/python3.11/dist-packages (from langsmith>=0.1.17->langchain) (0.23.0)\n",
            "Requirement already satisfied: annotated-types>=0.6.0 in /usr/local/lib/python3.11/dist-packages (from pydantic<3.0.0,>=2.7.4->langchain) (0.7.0)\n",
            "Requirement already satisfied: pydantic-core==2.33.2 in /usr/local/lib/python3.11/dist-packages (from pydantic<3.0.0,>=2.7.4->langchain) (2.33.2)\n",
            "Requirement already satisfied: typing-inspection>=0.4.0 in /usr/local/lib/python3.11/dist-packages (from pydantic<3.0.0,>=2.7.4->langchain) (0.4.1)\n",
            "Requirement already satisfied: python-dotenv>=0.21.0 in /usr/local/lib/python3.11/dist-packages (from pydantic-settings<3.0.0,>=2.4.0->langchain-community) (1.1.0)\n",
            "Requirement already satisfied: charset-normalizer<4,>=2 in /usr/local/lib/python3.11/dist-packages (from requests<3,>=2->langchain) (3.4.2)\n",
            "Requirement already satisfied: urllib3<3,>=1.21.1 in /usr/local/lib/python3.11/dist-packages (from requests<3,>=2->langchain) (2.4.0)\n",
            "Requirement already satisfied: greenlet>=1 in /usr/local/lib/python3.11/dist-packages (from SQLAlchemy<3,>=1.4->langchain) (3.2.3)\n",
            "Requirement already satisfied: jsonpointer>=1.9 in /usr/local/lib/python3.11/dist-packages (from jsonpatch<2.0,>=1.33->langchain-core<1.0.0,>=0.3.66->langchain) (3.0.0)\n",
            "Requirement already satisfied: mypy-extensions>=0.3.0 in /usr/local/lib/python3.11/dist-packages (from typing-inspect<1,>=0.4.0->dataclasses-json<0.7,>=0.5.7->langchain-community) (1.1.0)\n",
            "Requirement already satisfied: sniffio>=1.1 in /usr/local/lib/python3.11/dist-packages (from anyio->httpx<1,>=0.21.0->replicate) (1.3.1)\n",
            "Downloading langchain_experimental-0.3.4-py3-none-any.whl (209 kB)\n",
            "\u001b[2K   \u001b[90m━━━━━━━━━━━━━━━━━━━━━━━━━━━━━━━━━━━━━━━━\u001b[0m \u001b[32m209.2/209.2 kB\u001b[0m \u001b[31m4.1 MB/s\u001b[0m eta \u001b[36m0:00:00\u001b[0m\n",
            "\u001b[?25hInstalling collected packages: langchain-experimental\n",
            "Successfully installed langchain-experimental-0.3.4\n"
          ]
        }
      ]
    },
    {
      "cell_type": "markdown",
      "source": [
        "# Input API"
      ],
      "metadata": {
        "id": "oDKE9LAIcYzW"
      }
    },
    {
      "cell_type": "code",
      "source": [
        "import os\n",
        "from google.colab import userdata\n",
        "\n",
        "api_token = userdata.get(\"api_token\")\n",
        "\n",
        "# Put token to env variable\n",
        "os.environ[\"REPLICATE_API_TOKEN\"] = api_token"
      ],
      "metadata": {
        "id": "m-0JWgzcF-jH"
      },
      "execution_count": null,
      "outputs": []
    },
    {
      "cell_type": "code",
      "source": [
        "from langchain_community.llms import Replicate\n",
        "\n",
        "# Model setup\n",
        "model = \"ibm-granite/granite-3.0-8b-instruct\"\n",
        "\n",
        "output = Replicate(\n",
        "    model=model,\n",
        "    replicate_api_token=api_token,\n",
        ")"
      ],
      "metadata": {
        "id": "UIDxvYd8g2VQ"
      },
      "execution_count": null,
      "outputs": []
    },
    {
      "cell_type": "code",
      "source": [
        "from langchain_community.llms import Replicate\n",
        "\n",
        "# Define the model\n",
        "llm = Replicate(\n",
        "  model=\"ibm-granite/granite-3.3-8b-instruct\",\n",
        "  replicate_api_token=\"r8_aqHIUw1BNT9MwAnxHb3IBM7Yzb2Oj863bj0mt\"\n",
        ")"
      ],
      "metadata": {
        "id": "oAKeA3GkF-ls"
      },
      "execution_count": null,
      "outputs": []
    },
    {
      "cell_type": "markdown",
      "source": [
        "# Import Dataset"
      ],
      "metadata": {
        "id": "S_mbWld9cfhc"
      }
    },
    {
      "cell_type": "code",
      "source": [
        "import pandas as pd\n",
        "\n",
        "df = pd.read_csv(\"archive.zip\")\n",
        "df"
      ],
      "metadata": {
        "colab": {
          "base_uri": "https://localhost:8080/",
          "height": 1000
        },
        "id": "X6EWxDkHXrEY",
        "outputId": "ea6e6dd1-f929-4b75-fde5-2444e1ba9f75"
      },
      "execution_count": null,
      "outputs": [
        {
          "output_type": "execute_result",
          "data": {
            "text/plain": [
              "                                                  title  \\\n",
              "0                              Fictional Points of View   \n",
              "1                Science Fiction and Fantasy Literature   \n",
              "2                  Library of Congress Subject Headings   \n",
              "3                  Library of Congress Subject Headings   \n",
              "4     Fictional Space in the Modernist and Post-mode...   \n",
              "...                                                 ...   \n",
              "2044                                     The Index Card   \n",
              "2045                                 The Road to Wealth   \n",
              "2046                             The Success Principles   \n",
              "2047                             The Courage to Be Rich   \n",
              "2048                                   The Money Manual   \n",
              "\n",
              "                                                 author pages  \\\n",
              "0                                        Peter Lamarque   252   \n",
              "1        R. Reginald, Douglas Menville, Mary A. Burgess   802   \n",
              "2     Library of Congress. Cataloging Policy and Sup...  1662   \n",
              "3                                   Library of Congress  1512   \n",
              "4                                  Carl Darryl Malmgren   248   \n",
              "...                                                 ...   ...   \n",
              "2044                       Helaine Olen, Harold Pollack   256   \n",
              "2045                                         Suze Orman   608   \n",
              "2046                                      Jack Canfield   512   \n",
              "2047                                         Suze Orman   448   \n",
              "2048                                       Tonya Rapley   256   \n",
              "\n",
              "                                      genre  \\\n",
              "0                        Literary Criticism   \n",
              "1                                 Reference   \n",
              "2     Subject headings, Library of Congress   \n",
              "3     Subject headings, Library of Congress   \n",
              "4                                   Fiction   \n",
              "...                                     ...   \n",
              "2044                       Personal Finance   \n",
              "2045                       Personal Finance   \n",
              "2046                              Self-Help   \n",
              "2047                       Personal Finance   \n",
              "2048                       Personal Finance   \n",
              "\n",
              "                                            description published_date  \\\n",
              "0     The volume focuses on a wide range of thinkers...           1996   \n",
              "1     Science Fiction and Fantasy Literature, A Chec...     2010-09-01   \n",
              "2                              No description available           2004   \n",
              "3                              No description available           2007   \n",
              "4     Fictional space is the imaginal expanse of fie...           1985   \n",
              "...                                                 ...            ...   \n",
              "2044  Simplifies personal finance to ten rules that ...     2016-01-05   \n",
              "2045  A comprehensive guide to managing money, inves...     2001-04-01   \n",
              "2046  A guide to achieving personal and financial su...     2004-12-28   \n",
              "2047  Combines emotional and practical advice for bu...     1999-03-01   \n",
              "2048  A millennial-focused guide to budgeting, savin...     2023-05-16   \n",
              "\n",
              "                      publisher language average_rating  ratings_count  \\\n",
              "0      Cornell University Press       en      No rating              0   \n",
              "1            Wildside Press LLC       en      No rating              0   \n",
              "2             Unknown Publisher       en      No rating              0   \n",
              "3             Unknown Publisher       en      No rating              0   \n",
              "4     Bucknell University Press       en      No rating              0   \n",
              "...                         ...      ...            ...            ...   \n",
              "2044                  Portfolio       en            4.0          30000   \n",
              "2045            Riverhead Books       en            4.1          50000   \n",
              "2046              HarperCollins       en            4.2         100000   \n",
              "2047            Riverhead Books       en            4.0          40000   \n",
              "2048                Adams Media       en            4.2          20000   \n",
              "\n",
              "                                              thumbnail  \n",
              "0     http://books.google.com/books/content?id=rh-om...  \n",
              "1     http://books.google.com/books/content?id=P8zW2...  \n",
              "2     http://books.google.com/books/content?id=pEhkh...  \n",
              "3     http://books.google.com/books/content?id=FgAjF...  \n",
              "4     http://books.google.com/books/content?id=KXzoz...  \n",
              "...                                                 ...  \n",
              "2044  http://books.google.com/books/content?id=8z4_D...  \n",
              "2045  http://books.google.com/books/content?id=zv0oD...  \n",
              "2046  http://books.google.com/books/content?id=7zL_D...  \n",
              "2047  http://books.google.com/books/content?id=2c3_D...  \n",
              "2048  http://books.google.com/books/content?id=3z3_D...  \n",
              "\n",
              "[2049 rows x 11 columns]"
            ],
            "text/html": [
              "\n",
              "  <div id=\"df-e879653e-c184-4856-945f-22a6617470f0\" class=\"colab-df-container\">\n",
              "    <div>\n",
              "<style scoped>\n",
              "    .dataframe tbody tr th:only-of-type {\n",
              "        vertical-align: middle;\n",
              "    }\n",
              "\n",
              "    .dataframe tbody tr th {\n",
              "        vertical-align: top;\n",
              "    }\n",
              "\n",
              "    .dataframe thead th {\n",
              "        text-align: right;\n",
              "    }\n",
              "</style>\n",
              "<table border=\"1\" class=\"dataframe\">\n",
              "  <thead>\n",
              "    <tr style=\"text-align: right;\">\n",
              "      <th></th>\n",
              "      <th>title</th>\n",
              "      <th>author</th>\n",
              "      <th>pages</th>\n",
              "      <th>genre</th>\n",
              "      <th>description</th>\n",
              "      <th>published_date</th>\n",
              "      <th>publisher</th>\n",
              "      <th>language</th>\n",
              "      <th>average_rating</th>\n",
              "      <th>ratings_count</th>\n",
              "      <th>thumbnail</th>\n",
              "    </tr>\n",
              "  </thead>\n",
              "  <tbody>\n",
              "    <tr>\n",
              "      <th>0</th>\n",
              "      <td>Fictional Points of View</td>\n",
              "      <td>Peter Lamarque</td>\n",
              "      <td>252</td>\n",
              "      <td>Literary Criticism</td>\n",
              "      <td>The volume focuses on a wide range of thinkers...</td>\n",
              "      <td>1996</td>\n",
              "      <td>Cornell University Press</td>\n",
              "      <td>en</td>\n",
              "      <td>No rating</td>\n",
              "      <td>0</td>\n",
              "      <td>http://books.google.com/books/content?id=rh-om...</td>\n",
              "    </tr>\n",
              "    <tr>\n",
              "      <th>1</th>\n",
              "      <td>Science Fiction and Fantasy Literature</td>\n",
              "      <td>R. Reginald, Douglas Menville, Mary A. Burgess</td>\n",
              "      <td>802</td>\n",
              "      <td>Reference</td>\n",
              "      <td>Science Fiction and Fantasy Literature, A Chec...</td>\n",
              "      <td>2010-09-01</td>\n",
              "      <td>Wildside Press LLC</td>\n",
              "      <td>en</td>\n",
              "      <td>No rating</td>\n",
              "      <td>0</td>\n",
              "      <td>http://books.google.com/books/content?id=P8zW2...</td>\n",
              "    </tr>\n",
              "    <tr>\n",
              "      <th>2</th>\n",
              "      <td>Library of Congress Subject Headings</td>\n",
              "      <td>Library of Congress. Cataloging Policy and Sup...</td>\n",
              "      <td>1662</td>\n",
              "      <td>Subject headings, Library of Congress</td>\n",
              "      <td>No description available</td>\n",
              "      <td>2004</td>\n",
              "      <td>Unknown Publisher</td>\n",
              "      <td>en</td>\n",
              "      <td>No rating</td>\n",
              "      <td>0</td>\n",
              "      <td>http://books.google.com/books/content?id=pEhkh...</td>\n",
              "    </tr>\n",
              "    <tr>\n",
              "      <th>3</th>\n",
              "      <td>Library of Congress Subject Headings</td>\n",
              "      <td>Library of Congress</td>\n",
              "      <td>1512</td>\n",
              "      <td>Subject headings, Library of Congress</td>\n",
              "      <td>No description available</td>\n",
              "      <td>2007</td>\n",
              "      <td>Unknown Publisher</td>\n",
              "      <td>en</td>\n",
              "      <td>No rating</td>\n",
              "      <td>0</td>\n",
              "      <td>http://books.google.com/books/content?id=FgAjF...</td>\n",
              "    </tr>\n",
              "    <tr>\n",
              "      <th>4</th>\n",
              "      <td>Fictional Space in the Modernist and Post-mode...</td>\n",
              "      <td>Carl Darryl Malmgren</td>\n",
              "      <td>248</td>\n",
              "      <td>Fiction</td>\n",
              "      <td>Fictional space is the imaginal expanse of fie...</td>\n",
              "      <td>1985</td>\n",
              "      <td>Bucknell University Press</td>\n",
              "      <td>en</td>\n",
              "      <td>No rating</td>\n",
              "      <td>0</td>\n",
              "      <td>http://books.google.com/books/content?id=KXzoz...</td>\n",
              "    </tr>\n",
              "    <tr>\n",
              "      <th>...</th>\n",
              "      <td>...</td>\n",
              "      <td>...</td>\n",
              "      <td>...</td>\n",
              "      <td>...</td>\n",
              "      <td>...</td>\n",
              "      <td>...</td>\n",
              "      <td>...</td>\n",
              "      <td>...</td>\n",
              "      <td>...</td>\n",
              "      <td>...</td>\n",
              "      <td>...</td>\n",
              "    </tr>\n",
              "    <tr>\n",
              "      <th>2044</th>\n",
              "      <td>The Index Card</td>\n",
              "      <td>Helaine Olen, Harold Pollack</td>\n",
              "      <td>256</td>\n",
              "      <td>Personal Finance</td>\n",
              "      <td>Simplifies personal finance to ten rules that ...</td>\n",
              "      <td>2016-01-05</td>\n",
              "      <td>Portfolio</td>\n",
              "      <td>en</td>\n",
              "      <td>4.0</td>\n",
              "      <td>30000</td>\n",
              "      <td>http://books.google.com/books/content?id=8z4_D...</td>\n",
              "    </tr>\n",
              "    <tr>\n",
              "      <th>2045</th>\n",
              "      <td>The Road to Wealth</td>\n",
              "      <td>Suze Orman</td>\n",
              "      <td>608</td>\n",
              "      <td>Personal Finance</td>\n",
              "      <td>A comprehensive guide to managing money, inves...</td>\n",
              "      <td>2001-04-01</td>\n",
              "      <td>Riverhead Books</td>\n",
              "      <td>en</td>\n",
              "      <td>4.1</td>\n",
              "      <td>50000</td>\n",
              "      <td>http://books.google.com/books/content?id=zv0oD...</td>\n",
              "    </tr>\n",
              "    <tr>\n",
              "      <th>2046</th>\n",
              "      <td>The Success Principles</td>\n",
              "      <td>Jack Canfield</td>\n",
              "      <td>512</td>\n",
              "      <td>Self-Help</td>\n",
              "      <td>A guide to achieving personal and financial su...</td>\n",
              "      <td>2004-12-28</td>\n",
              "      <td>HarperCollins</td>\n",
              "      <td>en</td>\n",
              "      <td>4.2</td>\n",
              "      <td>100000</td>\n",
              "      <td>http://books.google.com/books/content?id=7zL_D...</td>\n",
              "    </tr>\n",
              "    <tr>\n",
              "      <th>2047</th>\n",
              "      <td>The Courage to Be Rich</td>\n",
              "      <td>Suze Orman</td>\n",
              "      <td>448</td>\n",
              "      <td>Personal Finance</td>\n",
              "      <td>Combines emotional and practical advice for bu...</td>\n",
              "      <td>1999-03-01</td>\n",
              "      <td>Riverhead Books</td>\n",
              "      <td>en</td>\n",
              "      <td>4.0</td>\n",
              "      <td>40000</td>\n",
              "      <td>http://books.google.com/books/content?id=2c3_D...</td>\n",
              "    </tr>\n",
              "    <tr>\n",
              "      <th>2048</th>\n",
              "      <td>The Money Manual</td>\n",
              "      <td>Tonya Rapley</td>\n",
              "      <td>256</td>\n",
              "      <td>Personal Finance</td>\n",
              "      <td>A millennial-focused guide to budgeting, savin...</td>\n",
              "      <td>2023-05-16</td>\n",
              "      <td>Adams Media</td>\n",
              "      <td>en</td>\n",
              "      <td>4.2</td>\n",
              "      <td>20000</td>\n",
              "      <td>http://books.google.com/books/content?id=3z3_D...</td>\n",
              "    </tr>\n",
              "  </tbody>\n",
              "</table>\n",
              "<p>2049 rows × 11 columns</p>\n",
              "</div>\n",
              "    <div class=\"colab-df-buttons\">\n",
              "\n",
              "  <div class=\"colab-df-container\">\n",
              "    <button class=\"colab-df-convert\" onclick=\"convertToInteractive('df-e879653e-c184-4856-945f-22a6617470f0')\"\n",
              "            title=\"Convert this dataframe to an interactive table.\"\n",
              "            style=\"display:none;\">\n",
              "\n",
              "  <svg xmlns=\"http://www.w3.org/2000/svg\" height=\"24px\" viewBox=\"0 -960 960 960\">\n",
              "    <path d=\"M120-120v-720h720v720H120Zm60-500h600v-160H180v160Zm220 220h160v-160H400v160Zm0 220h160v-160H400v160ZM180-400h160v-160H180v160Zm440 0h160v-160H620v160ZM180-180h160v-160H180v160Zm440 0h160v-160H620v160Z\"/>\n",
              "  </svg>\n",
              "    </button>\n",
              "\n",
              "  <style>\n",
              "    .colab-df-container {\n",
              "      display:flex;\n",
              "      gap: 12px;\n",
              "    }\n",
              "\n",
              "    .colab-df-convert {\n",
              "      background-color: #E8F0FE;\n",
              "      border: none;\n",
              "      border-radius: 50%;\n",
              "      cursor: pointer;\n",
              "      display: none;\n",
              "      fill: #1967D2;\n",
              "      height: 32px;\n",
              "      padding: 0 0 0 0;\n",
              "      width: 32px;\n",
              "    }\n",
              "\n",
              "    .colab-df-convert:hover {\n",
              "      background-color: #E2EBFA;\n",
              "      box-shadow: 0px 1px 2px rgba(60, 64, 67, 0.3), 0px 1px 3px 1px rgba(60, 64, 67, 0.15);\n",
              "      fill: #174EA6;\n",
              "    }\n",
              "\n",
              "    .colab-df-buttons div {\n",
              "      margin-bottom: 4px;\n",
              "    }\n",
              "\n",
              "    [theme=dark] .colab-df-convert {\n",
              "      background-color: #3B4455;\n",
              "      fill: #D2E3FC;\n",
              "    }\n",
              "\n",
              "    [theme=dark] .colab-df-convert:hover {\n",
              "      background-color: #434B5C;\n",
              "      box-shadow: 0px 1px 3px 1px rgba(0, 0, 0, 0.15);\n",
              "      filter: drop-shadow(0px 1px 2px rgba(0, 0, 0, 0.3));\n",
              "      fill: #FFFFFF;\n",
              "    }\n",
              "  </style>\n",
              "\n",
              "    <script>\n",
              "      const buttonEl =\n",
              "        document.querySelector('#df-e879653e-c184-4856-945f-22a6617470f0 button.colab-df-convert');\n",
              "      buttonEl.style.display =\n",
              "        google.colab.kernel.accessAllowed ? 'block' : 'none';\n",
              "\n",
              "      async function convertToInteractive(key) {\n",
              "        const element = document.querySelector('#df-e879653e-c184-4856-945f-22a6617470f0');\n",
              "        const dataTable =\n",
              "          await google.colab.kernel.invokeFunction('convertToInteractive',\n",
              "                                                    [key], {});\n",
              "        if (!dataTable) return;\n",
              "\n",
              "        const docLinkHtml = 'Like what you see? Visit the ' +\n",
              "          '<a target=\"_blank\" href=https://colab.research.google.com/notebooks/data_table.ipynb>data table notebook</a>'\n",
              "          + ' to learn more about interactive tables.';\n",
              "        element.innerHTML = '';\n",
              "        dataTable['output_type'] = 'display_data';\n",
              "        await google.colab.output.renderOutput(dataTable, element);\n",
              "        const docLink = document.createElement('div');\n",
              "        docLink.innerHTML = docLinkHtml;\n",
              "        element.appendChild(docLink);\n",
              "      }\n",
              "    </script>\n",
              "  </div>\n",
              "\n",
              "\n",
              "    <div id=\"df-2b3cd415-8cba-4567-bf2b-b7705488907c\">\n",
              "      <button class=\"colab-df-quickchart\" onclick=\"quickchart('df-2b3cd415-8cba-4567-bf2b-b7705488907c')\"\n",
              "                title=\"Suggest charts\"\n",
              "                style=\"display:none;\">\n",
              "\n",
              "<svg xmlns=\"http://www.w3.org/2000/svg\" height=\"24px\"viewBox=\"0 0 24 24\"\n",
              "     width=\"24px\">\n",
              "    <g>\n",
              "        <path d=\"M19 3H5c-1.1 0-2 .9-2 2v14c0 1.1.9 2 2 2h14c1.1 0 2-.9 2-2V5c0-1.1-.9-2-2-2zM9 17H7v-7h2v7zm4 0h-2V7h2v10zm4 0h-2v-4h2v4z\"/>\n",
              "    </g>\n",
              "</svg>\n",
              "      </button>\n",
              "\n",
              "<style>\n",
              "  .colab-df-quickchart {\n",
              "      --bg-color: #E8F0FE;\n",
              "      --fill-color: #1967D2;\n",
              "      --hover-bg-color: #E2EBFA;\n",
              "      --hover-fill-color: #174EA6;\n",
              "      --disabled-fill-color: #AAA;\n",
              "      --disabled-bg-color: #DDD;\n",
              "  }\n",
              "\n",
              "  [theme=dark] .colab-df-quickchart {\n",
              "      --bg-color: #3B4455;\n",
              "      --fill-color: #D2E3FC;\n",
              "      --hover-bg-color: #434B5C;\n",
              "      --hover-fill-color: #FFFFFF;\n",
              "      --disabled-bg-color: #3B4455;\n",
              "      --disabled-fill-color: #666;\n",
              "  }\n",
              "\n",
              "  .colab-df-quickchart {\n",
              "    background-color: var(--bg-color);\n",
              "    border: none;\n",
              "    border-radius: 50%;\n",
              "    cursor: pointer;\n",
              "    display: none;\n",
              "    fill: var(--fill-color);\n",
              "    height: 32px;\n",
              "    padding: 0;\n",
              "    width: 32px;\n",
              "  }\n",
              "\n",
              "  .colab-df-quickchart:hover {\n",
              "    background-color: var(--hover-bg-color);\n",
              "    box-shadow: 0 1px 2px rgba(60, 64, 67, 0.3), 0 1px 3px 1px rgba(60, 64, 67, 0.15);\n",
              "    fill: var(--button-hover-fill-color);\n",
              "  }\n",
              "\n",
              "  .colab-df-quickchart-complete:disabled,\n",
              "  .colab-df-quickchart-complete:disabled:hover {\n",
              "    background-color: var(--disabled-bg-color);\n",
              "    fill: var(--disabled-fill-color);\n",
              "    box-shadow: none;\n",
              "  }\n",
              "\n",
              "  .colab-df-spinner {\n",
              "    border: 2px solid var(--fill-color);\n",
              "    border-color: transparent;\n",
              "    border-bottom-color: var(--fill-color);\n",
              "    animation:\n",
              "      spin 1s steps(1) infinite;\n",
              "  }\n",
              "\n",
              "  @keyframes spin {\n",
              "    0% {\n",
              "      border-color: transparent;\n",
              "      border-bottom-color: var(--fill-color);\n",
              "      border-left-color: var(--fill-color);\n",
              "    }\n",
              "    20% {\n",
              "      border-color: transparent;\n",
              "      border-left-color: var(--fill-color);\n",
              "      border-top-color: var(--fill-color);\n",
              "    }\n",
              "    30% {\n",
              "      border-color: transparent;\n",
              "      border-left-color: var(--fill-color);\n",
              "      border-top-color: var(--fill-color);\n",
              "      border-right-color: var(--fill-color);\n",
              "    }\n",
              "    40% {\n",
              "      border-color: transparent;\n",
              "      border-right-color: var(--fill-color);\n",
              "      border-top-color: var(--fill-color);\n",
              "    }\n",
              "    60% {\n",
              "      border-color: transparent;\n",
              "      border-right-color: var(--fill-color);\n",
              "    }\n",
              "    80% {\n",
              "      border-color: transparent;\n",
              "      border-right-color: var(--fill-color);\n",
              "      border-bottom-color: var(--fill-color);\n",
              "    }\n",
              "    90% {\n",
              "      border-color: transparent;\n",
              "      border-bottom-color: var(--fill-color);\n",
              "    }\n",
              "  }\n",
              "</style>\n",
              "\n",
              "      <script>\n",
              "        async function quickchart(key) {\n",
              "          const quickchartButtonEl =\n",
              "            document.querySelector('#' + key + ' button');\n",
              "          quickchartButtonEl.disabled = true;  // To prevent multiple clicks.\n",
              "          quickchartButtonEl.classList.add('colab-df-spinner');\n",
              "          try {\n",
              "            const charts = await google.colab.kernel.invokeFunction(\n",
              "                'suggestCharts', [key], {});\n",
              "          } catch (error) {\n",
              "            console.error('Error during call to suggestCharts:', error);\n",
              "          }\n",
              "          quickchartButtonEl.classList.remove('colab-df-spinner');\n",
              "          quickchartButtonEl.classList.add('colab-df-quickchart-complete');\n",
              "        }\n",
              "        (() => {\n",
              "          let quickchartButtonEl =\n",
              "            document.querySelector('#df-2b3cd415-8cba-4567-bf2b-b7705488907c button');\n",
              "          quickchartButtonEl.style.display =\n",
              "            google.colab.kernel.accessAllowed ? 'block' : 'none';\n",
              "        })();\n",
              "      </script>\n",
              "    </div>\n",
              "\n",
              "  <div id=\"id_bf96e8e7-0a96-4f1f-aaa0-1266b467eb41\">\n",
              "    <style>\n",
              "      .colab-df-generate {\n",
              "        background-color: #E8F0FE;\n",
              "        border: none;\n",
              "        border-radius: 50%;\n",
              "        cursor: pointer;\n",
              "        display: none;\n",
              "        fill: #1967D2;\n",
              "        height: 32px;\n",
              "        padding: 0 0 0 0;\n",
              "        width: 32px;\n",
              "      }\n",
              "\n",
              "      .colab-df-generate:hover {\n",
              "        background-color: #E2EBFA;\n",
              "        box-shadow: 0px 1px 2px rgba(60, 64, 67, 0.3), 0px 1px 3px 1px rgba(60, 64, 67, 0.15);\n",
              "        fill: #174EA6;\n",
              "      }\n",
              "\n",
              "      [theme=dark] .colab-df-generate {\n",
              "        background-color: #3B4455;\n",
              "        fill: #D2E3FC;\n",
              "      }\n",
              "\n",
              "      [theme=dark] .colab-df-generate:hover {\n",
              "        background-color: #434B5C;\n",
              "        box-shadow: 0px 1px 3px 1px rgba(0, 0, 0, 0.15);\n",
              "        filter: drop-shadow(0px 1px 2px rgba(0, 0, 0, 0.3));\n",
              "        fill: #FFFFFF;\n",
              "      }\n",
              "    </style>\n",
              "    <button class=\"colab-df-generate\" onclick=\"generateWithVariable('df')\"\n",
              "            title=\"Generate code using this dataframe.\"\n",
              "            style=\"display:none;\">\n",
              "\n",
              "  <svg xmlns=\"http://www.w3.org/2000/svg\" height=\"24px\"viewBox=\"0 0 24 24\"\n",
              "       width=\"24px\">\n",
              "    <path d=\"M7,19H8.4L18.45,9,17,7.55,7,17.6ZM5,21V16.75L18.45,3.32a2,2,0,0,1,2.83,0l1.4,1.43a1.91,1.91,0,0,1,.58,1.4,1.91,1.91,0,0,1-.58,1.4L9.25,21ZM18.45,9,17,7.55Zm-12,3A5.31,5.31,0,0,0,4.9,8.1,5.31,5.31,0,0,0,1,6.5,5.31,5.31,0,0,0,4.9,4.9,5.31,5.31,0,0,0,6.5,1,5.31,5.31,0,0,0,8.1,4.9,5.31,5.31,0,0,0,12,6.5,5.46,5.46,0,0,0,6.5,12Z\"/>\n",
              "  </svg>\n",
              "    </button>\n",
              "    <script>\n",
              "      (() => {\n",
              "      const buttonEl =\n",
              "        document.querySelector('#id_bf96e8e7-0a96-4f1f-aaa0-1266b467eb41 button.colab-df-generate');\n",
              "      buttonEl.style.display =\n",
              "        google.colab.kernel.accessAllowed ? 'block' : 'none';\n",
              "\n",
              "      buttonEl.onclick = () => {\n",
              "        google.colab.notebook.generateWithVariable('df');\n",
              "      }\n",
              "      })();\n",
              "    </script>\n",
              "  </div>\n",
              "\n",
              "    </div>\n",
              "  </div>\n"
            ],
            "application/vnd.google.colaboratory.intrinsic+json": {
              "type": "dataframe",
              "variable_name": "df",
              "summary": "{\n  \"name\": \"df\",\n  \"rows\": 2049,\n  \"fields\": [\n    {\n      \"column\": \"title\",\n      \"properties\": {\n        \"dtype\": \"string\",\n        \"num_unique_values\": 1900,\n        \"samples\": [\n          \"The Physics of Blown Sand and Desert Dunes\",\n          \"Pennsylvania Magazine of History and Biography\",\n          \"NASA Tech Briefs\"\n        ],\n        \"semantic_type\": \"\",\n        \"description\": \"\"\n      }\n    },\n    {\n      \"column\": \"author\",\n      \"properties\": {\n        \"dtype\": \"string\",\n        \"num_unique_values\": 1456,\n        \"samples\": [\n          \"Alfred Bates, James Penny Boyd, John Porter Lamberton\",\n          \"M. J. Simpson\",\n          \"Savvas Papagiannidis, Eleftherios Alamanos, Suraksha Gupta, Yogesh K. Dwivedi, Matti M\\u00e4ntym\\u00e4ki, Ilias O. Pappas\"\n        ],\n        \"semantic_type\": \"\",\n        \"description\": \"\"\n      }\n    },\n    {\n      \"column\": \"pages\",\n      \"properties\": {\n        \"dtype\": \"category\",\n        \"num_unique_values\": 797,\n        \"samples\": [\n          \"379\",\n          \"786\",\n          \"886\"\n        ],\n        \"semantic_type\": \"\",\n        \"description\": \"\"\n      }\n    },\n    {\n      \"column\": \"genre\",\n      \"properties\": {\n        \"dtype\": \"category\",\n        \"num_unique_values\": 262,\n        \"samples\": [\n          \"Hours of labor\",\n          \"Aging\",\n          \"Chinese literature\"\n        ],\n        \"semantic_type\": \"\",\n        \"description\": \"\"\n      }\n    },\n    {\n      \"column\": \"description\",\n      \"properties\": {\n        \"dtype\": \"string\",\n        \"num_unique_values\": 1490,\n        \"samples\": [\n          \"Get the facts behind the sensational fiction! Dan Brown's novel, The DaVinci Code, has stormed the bestseller charts and both the book and upcoming film claim to be based on truth- a truth shocking enough to rock the foundations of Christianity. What is the truth? Could you defend your faith if challenged by those who believe Brown's fiction? Use this brief, practical book as a tool to begin conversations, to explain your beliefs, or to get the facts straight.\",\n          \"\\\"Unjustified enrichment\\\" is one of the three main non-contractual obligations dealt with in the DCFR. In recent years unjustified enrichment has been one of the most intellectually animated areas of private law. In an area of law whose territory is still partially uncharted and whose boundaries are contested, this volume of Principles of European Law will be invaluable for academic analysis of the law and its development by the courts. During the drafting process, comparative material from over ...\",\n          \"This is the second of three planned volumes in the final report on the cleaning and excavations at the Late Bronze Age site of Vronda near Kavousi in eastern Crete. It describes the excavation, stratigraphy, and architecture of the buildings on the slopes of the Vronda ridge: Building Complexes E, I-O-N, and L-M, Building F, and the pottery kiln, as well as areas excavated on the periphery that did not belong to any of these buildings. It also presents lists, catalogs, and images of artifacts an...\"\n        ],\n        \"semantic_type\": \"\",\n        \"description\": \"\"\n      }\n    },\n    {\n      \"column\": \"published_date\",\n      \"properties\": {\n        \"dtype\": \"string\",\n        \"num_unique_values\": 1215,\n        \"samples\": [\n          \"2011-04-04\",\n          \"2020-01-01\",\n          \"1980-12\"\n        ],\n        \"semantic_type\": \"\",\n        \"description\": \"\"\n      }\n    },\n    {\n      \"column\": \"publisher\",\n      \"properties\": {\n        \"dtype\": \"category\",\n        \"num_unique_values\": 573,\n        \"samples\": [\n          \"Technics Publications\",\n          \"Walter de Gruyter\",\n          \"Publication Nepalaya\"\n        ],\n        \"semantic_type\": \"\",\n        \"description\": \"\"\n      }\n    },\n    {\n      \"column\": \"language\",\n      \"properties\": {\n        \"dtype\": \"category\",\n        \"num_unique_values\": 24,\n        \"samples\": [\n          \"ru\",\n          \"eu\",\n          \"en\"\n        ],\n        \"semantic_type\": \"\",\n        \"description\": \"\"\n      }\n    },\n    {\n      \"column\": \"average_rating\",\n      \"properties\": {\n        \"dtype\": \"category\",\n        \"num_unique_values\": 14,\n        \"samples\": [\n          \"4.3\",\n          \"4.0\",\n          \"No rating\"\n        ],\n        \"semantic_type\": \"\",\n        \"description\": \"\"\n      }\n    },\n    {\n      \"column\": \"ratings_count\",\n      \"properties\": {\n        \"dtype\": \"number\",\n        \"std\": 40015,\n        \"min\": 0,\n        \"max\": 1000000,\n        \"num_unique_values\": 53,\n        \"samples\": [\n          52,\n          100000,\n          30000\n        ],\n        \"semantic_type\": \"\",\n        \"description\": \"\"\n      }\n    },\n    {\n      \"column\": \"thumbnail\",\n      \"properties\": {\n        \"dtype\": \"string\",\n        \"num_unique_values\": 2007,\n        \"samples\": [\n          \"http://books.google.com/books/content?id=98EjDwAAQBAJ&printsec=frontcover&img=1&zoom=1&edge=curl&source=gbs_api\",\n          \"http://books.google.com/books/content?id=2AqSkikl6wEC&printsec=frontcover&img=1&zoom=1&edge=curl&source=gbs_api\",\n          \"http://books.google.com/books/content?id=ybIe4PBc4U0C&printsec=frontcover&img=1&zoom=1&edge=curl&source=gbs_api\"\n        ],\n        \"semantic_type\": \"\",\n        \"description\": \"\"\n      }\n    }\n  ]\n}"
            }
          },
          "metadata": {},
          "execution_count": 39
        }
      ]
    },
    {
      "cell_type": "markdown",
      "source": [
        "# Data Cleaning"
      ],
      "metadata": {
        "id": "krrRbL8Kci1J"
      }
    },
    {
      "cell_type": "code",
      "source": [
        "df.info()"
      ],
      "metadata": {
        "colab": {
          "base_uri": "https://localhost:8080/"
        },
        "id": "FpgBXA2I2ppB",
        "outputId": "e2915d43-abac-43b6-886e-586aa92a7079"
      },
      "execution_count": null,
      "outputs": [
        {
          "output_type": "stream",
          "name": "stdout",
          "text": [
            "<class 'pandas.core.frame.DataFrame'>\n",
            "RangeIndex: 2049 entries, 0 to 2048\n",
            "Data columns (total 11 columns):\n",
            " #   Column          Non-Null Count  Dtype \n",
            "---  ------          --------------  ----- \n",
            " 0   title           2049 non-null   object\n",
            " 1   author          2049 non-null   object\n",
            " 2   pages           2049 non-null   object\n",
            " 3   genre           2049 non-null   object\n",
            " 4   description     2049 non-null   object\n",
            " 5   published_date  2049 non-null   object\n",
            " 6   publisher       2049 non-null   object\n",
            " 7   language        2049 non-null   object\n",
            " 8   average_rating  2049 non-null   object\n",
            " 9   ratings_count   2049 non-null   int64 \n",
            " 10  thumbnail       2049 non-null   object\n",
            "dtypes: int64(1), object(10)\n",
            "memory usage: 176.2+ KB\n"
          ]
        }
      ]
    },
    {
      "cell_type": "code",
      "source": [
        "df.isna().sum()"
      ],
      "metadata": {
        "colab": {
          "base_uri": "https://localhost:8080/",
          "height": 429
        },
        "id": "0Is7B4qd2mjb",
        "outputId": "646a6031-c843-48bd-901c-41281a19fc4d"
      },
      "execution_count": null,
      "outputs": [
        {
          "output_type": "execute_result",
          "data": {
            "text/plain": [
              "title             0\n",
              "author            0\n",
              "pages             0\n",
              "genre             0\n",
              "description       0\n",
              "published_date    0\n",
              "publisher         0\n",
              "language          0\n",
              "average_rating    0\n",
              "ratings_count     0\n",
              "thumbnail         0\n",
              "dtype: int64"
            ],
            "text/html": [
              "<div>\n",
              "<style scoped>\n",
              "    .dataframe tbody tr th:only-of-type {\n",
              "        vertical-align: middle;\n",
              "    }\n",
              "\n",
              "    .dataframe tbody tr th {\n",
              "        vertical-align: top;\n",
              "    }\n",
              "\n",
              "    .dataframe thead th {\n",
              "        text-align: right;\n",
              "    }\n",
              "</style>\n",
              "<table border=\"1\" class=\"dataframe\">\n",
              "  <thead>\n",
              "    <tr style=\"text-align: right;\">\n",
              "      <th></th>\n",
              "      <th>0</th>\n",
              "    </tr>\n",
              "  </thead>\n",
              "  <tbody>\n",
              "    <tr>\n",
              "      <th>title</th>\n",
              "      <td>0</td>\n",
              "    </tr>\n",
              "    <tr>\n",
              "      <th>author</th>\n",
              "      <td>0</td>\n",
              "    </tr>\n",
              "    <tr>\n",
              "      <th>pages</th>\n",
              "      <td>0</td>\n",
              "    </tr>\n",
              "    <tr>\n",
              "      <th>genre</th>\n",
              "      <td>0</td>\n",
              "    </tr>\n",
              "    <tr>\n",
              "      <th>description</th>\n",
              "      <td>0</td>\n",
              "    </tr>\n",
              "    <tr>\n",
              "      <th>published_date</th>\n",
              "      <td>0</td>\n",
              "    </tr>\n",
              "    <tr>\n",
              "      <th>publisher</th>\n",
              "      <td>0</td>\n",
              "    </tr>\n",
              "    <tr>\n",
              "      <th>language</th>\n",
              "      <td>0</td>\n",
              "    </tr>\n",
              "    <tr>\n",
              "      <th>average_rating</th>\n",
              "      <td>0</td>\n",
              "    </tr>\n",
              "    <tr>\n",
              "      <th>ratings_count</th>\n",
              "      <td>0</td>\n",
              "    </tr>\n",
              "    <tr>\n",
              "      <th>thumbnail</th>\n",
              "      <td>0</td>\n",
              "    </tr>\n",
              "  </tbody>\n",
              "</table>\n",
              "</div><br><label><b>dtype:</b> int64</label>"
            ]
          },
          "metadata": {},
          "execution_count": 40
        }
      ]
    },
    {
      "cell_type": "markdown",
      "source": [
        "# Used of AI"
      ],
      "metadata": {
        "id": "PL5D4lVPctvG"
      }
    },
    {
      "cell_type": "code",
      "source": [
        "from langchain_experimental.agents.agent_toolkits.pandas.base import (\n",
        "    create_pandas_dataframe_agent\n",
        ")\n",
        "\n",
        "agent = create_pandas_dataframe_agent(\n",
        "    llm=llm,\n",
        "    df=df,\n",
        "    verbose=True,\n",
        "    allow_dangerous_code=True,  # opt-in for Python REPL execution\n",
        ")"
      ],
      "metadata": {
        "id": "R0jYSCklZQcj"
      },
      "execution_count": null,
      "outputs": []
    },
    {
      "cell_type": "markdown",
      "source": [
        "## Bahasa apa yang paling umum digunakan dalam buku-buku di dataset ini?"
      ],
      "metadata": {
        "id": "KFisOCy2c3BR"
      }
    },
    {
      "cell_type": "code",
      "source": [
        "agent.invoke({\"input\": \"Which languages are most common in the dataset?\"})"
      ],
      "metadata": {
        "colab": {
          "base_uri": "https://localhost:8080/"
        },
        "id": "wS7GqNfUgixx",
        "outputId": "4c21e4ff-443b-4edf-9892-bd44b401a436"
      },
      "execution_count": null,
      "outputs": [
        {
          "output_type": "stream",
          "name": "stdout",
          "text": [
            "\n",
            "\n",
            "\u001b[1m> Entering new AgentExecutor chain...\u001b[0m\n",
            "\u001b[32;1m\u001b[1;3mThought: To determine the most common languages in the dataset, I need to examine the 'language' column in the dataframe. I will use the `value_counts()` function to count the occurrences of each language and then select the top results.\n",
            "\n",
            "Action: python_repl_ast\n",
            "\n",
            "Action Input: \n",
            "```python\n",
            "most_common_languages = df['language'].value_counts()\n",
            "most_common_languages\n",
            "```\n",
            "\n",
            "\u001b[0m\u001b[36;1m\u001b[1;3mlanguage\n",
            "en       1958\n",
            "id         21\n",
            "it         14\n",
            "es         10\n",
            "pt          7\n",
            "el          5\n",
            "vi          4\n",
            "tr          4\n",
            "cs          3\n",
            "ne          3\n",
            "fr          3\n",
            "ms          2\n",
            "mr          2\n",
            "no          2\n",
            "sv          2\n",
            "gl          1\n",
            "ru          1\n",
            "hi          1\n",
            "zh-TW       1\n",
            "eu          1\n",
            "pl          1\n",
            "hu          1\n",
            "th          1\n",
            "ko          1\n",
            "Name: count, dtype: int64\u001b[0m\u001b[32;1m\u001b[1;3mFinal Answer: The most common language in the dataset is 'en' (English) with a count of 1958. The second most common is 'id' (Indonesian) with 21 occurrences, followed by 'it' (Italian) with 14, 'es' (Spanish) with 10, and 'pt' (Portuguese) with 7. Other languages appear fewer times.\n",
            "\n",
            "Final Answer: English (en) is the most common language in the dataset, followed by Indonesian (id), Italian (it), Spanish (es), and Portuguese (pt).\u001b[0m\n",
            "\n",
            "\u001b[1m> Finished chain.\u001b[0m\n"
          ]
        },
        {
          "output_type": "execute_result",
          "data": {
            "text/plain": [
              "{'input': 'Which languages are most common in the dataset?',\n",
              " 'output': 'English (en) is the most common language in the dataset, followed by Indonesian (id), Italian (it), Spanish (es), and Portuguese (pt).'}"
            ]
          },
          "metadata": {},
          "execution_count": 24
        }
      ]
    },
    {
      "cell_type": "markdown",
      "source": [
        "**Insight :**\n",
        "* Buku berbahasa Inggris (`en`) mendominasi hampir seluruh dataset (lebih dari 93%).\n",
        "* Bahasa seperti Indonesia, Italia, Spanyol, dan lainnya hanya memiliki sebagian kecil dari total entri. Misalnya, hanya 1% buku yang berbahasa Indonesia, yang mungkin mencerminkan keterbatasan data atau rendahnya digitalisasi buku lokal."
      ],
      "metadata": {
        "id": "zUjKuAvjeOlT"
      }
    },
    {
      "cell_type": "markdown",
      "source": [
        "**Rekomendasi :**\n",
        "* Memfokuskan pada diversifikasi bahasa seperti mempertimbangkan untuk meningkatkan distribusi buku dalam bahasa non-Inggris seperti Indonesia atau Spanyol jika target pasar internasional ingin diperluas.\n",
        "* Melacak potensi pasar bahasa lokal. Jika `id` hanya 21 buku tetapi permintaan terhadap buku berbahasa Indonesia tinggi, ini bisa jadi peluang pasar yang belum tergarap."
      ],
      "metadata": {
        "id": "WMqFpondeoAJ"
      }
    },
    {
      "cell_type": "markdown",
      "source": [
        "## Penerbit mana yang paling banyak menerbitkan buku?"
      ],
      "metadata": {
        "id": "g_DeaegBc8L8"
      }
    },
    {
      "cell_type": "code",
      "source": [
        "agent.invoke({\"input\": \"List the top 10 publishers with the most books\"})"
      ],
      "metadata": {
        "colab": {
          "base_uri": "https://localhost:8080/"
        },
        "id": "7zUD2M43jIs0",
        "outputId": "a993fe49-f0a2-4c25-fa6c-6ee12193f84a"
      },
      "execution_count": null,
      "outputs": [
        {
          "output_type": "stream",
          "name": "stdout",
          "text": [
            "\n",
            "\n",
            "\u001b[1m> Entering new AgentExecutor chain...\u001b[0m\n",
            "\u001b[32;1m\u001b[1;3mThought: To find the top 10 publishers with the most books, I need to count the occurrences of each publisher in the 'publisher' column of the dataframe `df`. I will use the `value_counts()` function from pandas to achieve this.\n",
            "\n",
            "Action: python_repl_ast\n",
            "\n",
            "Action Input:\n",
            "```python\n",
            "publisher_counts = df['publisher'].value_counts()\n",
            "publisher_counts.head(10)\n",
            "```\n",
            "\n",
            "\u001b[0m\u001b[36;1m\u001b[1;3mpublisher\n",
            "Unknown Publisher             532\n",
            "Simon and Schuster             57\n",
            "Routledge                      44\n",
            "John Wiley & Sons              40\n",
            "McFarland                      39\n",
            "Springer                       32\n",
            "Springer Nature                32\n",
            "Cambridge University Press     28\n",
            "Taylor & Francis               28\n",
            "Oxford University Press        26\n",
            "Name: count, dtype: int64\u001b[0m\u001b[32;1m\u001b[1;3mThe top 10 publishers with the most books in the dataframe `df` are:\n",
            "\n",
            "1. Unknown Publisher - 532 books\n",
            "2. Simon and Schuster - 57 books\n",
            "3. Routledge - 44 books\n",
            "4. John Wiley & Sons - 40 books\n",
            "5. McFarland - 39 books\n",
            "6. Springer - 32 books\n",
            "7. Springer Nature - 32 books\n",
            "8. Cambridge University Press - 28 books\n",
            "9. Taylor & Francis - 28 books\n",
            "10. Oxford University Press - 26 books\n",
            "\n",
            "Final Answer:\n",
            "\n",
            "1. Unknown Publisher - 532 books\n",
            "2. Simon and Schuster - 57 books\n",
            "3. Routledge - 44 books\n",
            "4. John Wiley & Sons - 40 books\n",
            "5. McFarland - 39 books\n",
            "6. Springer - 32 books\n",
            "7. Springer Nature - 32 books\n",
            "8. Cambridge University Press - 28 books\n",
            "9. Taylor & Francis - 28 books\n",
            "10. Oxford University Press - 26 books\u001b[0m\n",
            "\n",
            "\u001b[1m> Finished chain.\u001b[0m\n"
          ]
        },
        {
          "output_type": "execute_result",
          "data": {
            "text/plain": [
              "{'input': 'List the top 10 publishers with the most books',\n",
              " 'output': '1. Unknown Publisher - 532 books\\n2. Simon and Schuster - 57 books\\n3. Routledge - 44 books\\n4. John Wiley & Sons - 40 books\\n5. McFarland - 39 books\\n6. Springer - 32 books\\n7. Springer Nature - 32 books\\n8. Cambridge University Press - 28 books\\n9. Taylor & Francis - 28 books\\n10. Oxford University Press - 26 books'}"
            ]
          },
          "metadata": {},
          "execution_count": 23
        }
      ]
    },
    {
      "cell_type": "markdown",
      "source": [
        "**Insight :**\n",
        "* Dominasi “Unknown Publisher” yang jumlahnya sangat besar (532 buku) — setara dengan lebih dari 25% total data. Hal ini kemungkinan disebabkan oleh data kosong atau tidak terstandarisasi dalam kolom publisher. Ini menjadi indikator kualitas data yang perlu dibersihkan.\n",
        "* Penerbit akademik dan ilmiah mendominasi seperti Springer, Cambridge, Oxford, Routledge, dan Taylor & Francis adalah penerbit terkenal di dunia akademik. Ini mengindikasikan bahwa dataset ini banyak berisi buku akademik atau buku teks pendidikan.\n",
        "* Dominasi oleh beberapa penerbit besar seperti Simon and Schuster juga muncul — menunjukkan keberagaman konten (baik komersial maupun akademik)."
      ],
      "metadata": {
        "id": "O6iI7xqAfl-X"
      }
    },
    {
      "cell_type": "markdown",
      "source": [
        "**Rekomendasi :**\n",
        "* Menganalisis performansi buku berdasarkan publisher seperti buku-buku dari penerbit tertentu cenderung memiliki rating atau ulasan lebih tinggi\n",
        "* Mengoptimasi distribusi buku akademik\n",
        "* Kolaborasi dengan penerbit berkinerja tinggi seperti contoh jika buku dari Cambridge atau Oxford sering dibaca dan memiliki rating tinggi, pertimbangkan menjalin kerja sama untuk akses digital lebih banyak."
      ],
      "metadata": {
        "id": "zyT9JSdYgQ-Z"
      }
    },
    {
      "cell_type": "markdown",
      "source": [
        "## Genre apa yang paling sering muncul?"
      ],
      "metadata": {
        "id": "RSNlAOOsdBm2"
      }
    },
    {
      "cell_type": "code",
      "source": [
        "agent.invoke({\"input\": \"show the top 10 most frequent genres from the genre column in a bar chart\"})"
      ],
      "metadata": {
        "colab": {
          "base_uri": "https://localhost:8080/",
          "height": 1000
        },
        "id": "zFcwRFpch_YX",
        "outputId": "c2ec6435-f150-42dc-a412-2dab0029f847"
      },
      "execution_count": null,
      "outputs": [
        {
          "output_type": "stream",
          "name": "stdout",
          "text": [
            "\n",
            "\n",
            "\u001b[1m> Entering new AgentExecutor chain...\u001b[0m\n",
            "\u001b[32;1m\u001b[1;3mThought: To create a bar chart of the top 10 most frequent genres from the 'genre' column in the dataframe `df`, I will follow these steps:\n",
            "\n",
            "1. Use `value_counts()` to count the frequency of each genre.\n",
            "2. Convert this Series to a DataFrame for easier manipulation.\n",
            "3. Sort the DataFrame by the count in descending order.\n",
            "4. Select the top 10 genres.\n",
            "5. Use `matplotlib` or `seaborn` to create a bar chart from the selected genres and their counts.\n",
            "\n",
            "Action: python_repl_ast\n",
            "\n",
            "Action Input:\n",
            "```python\n",
            "import pandas as pd\n",
            "import matplotlib.pyplot as plt\n",
            "import seaborn as sns\n",
            "\n",
            "# Step 1: Count the frequency of each genre\n",
            "genre_counts = df['genre'].value_counts()\n",
            "\n",
            "# Step 2: Convert to DataFrame\n",
            "genre_df = genre_counts.reset_index()\n",
            "genre_df.columns = ['genre', 'count']\n",
            "\n",
            "# Step 3: Sort by count in descending order\n",
            "sorted_genre_df = genre_df.sort_values('count', ascending=False)\n",
            "\n",
            "# Step 4: Select top 10 genres\n",
            "top_10_genres = sorted_genre_df.head(10)\n",
            "\n",
            "# Step 5: Create a bar chart\n",
            "plt.figure(figsize=(12, 8))\n",
            "sns.barplot(x='count', y='genre', data=top_10_genres, palette='viridis')\n",
            "plt.title('Top 10 Most Frequent Genres')\n",
            "plt.xlabel('Frequency')\n",
            "plt.ylabel('Genres')\n",
            "plt.show()\n",
            "```\n",
            "\n",
            "\u001b[0m"
          ]
        },
        {
          "output_type": "stream",
          "name": "stderr",
          "text": [
            "<string>:10: FutureWarning: \n",
            "\n",
            "Passing `palette` without assigning `hue` is deprecated and will be removed in v0.14.0. Assign the `y` variable to `hue` and set `legend=False` for the same effect.\n",
            "\n"
          ]
        },
        {
          "output_type": "display_data",
          "data": {
            "text/plain": [
              "<Figure size 1200x800 with 1 Axes>"
            ],
            "image/png": "[encoded data removed]"
          },
          "metadata": {}
        },
        {
          "output_type": "stream",
          "name": "stdout",
          "text": [
            "\u001b[36;1m\u001b[1;3m\u001b[0m\u001b[32;1m\u001b[1;3mThe provided code will generate a bar chart showing the top 10 most frequent genres from the 'genre' column in the dataframe `df`. However, as an AI, I cannot execute this code directly in a Python environment to produce the actual chart. You would need to run this code in your local Python environment or a compatible Jupyter notebook to see the visualization. \n",
            "\n",
            "The bar chart will display the frequency of genres on the x-axis and the genre names on the y-axis. The genres are sorted by their frequency in descending order, so the tallest bars correspond to the most frequent genres.\n",
            "\n",
            "Final Answer:\n",
            "To visualize the top 10 most frequent genres from the 'genre' column, execute the provided Python code in your local environment. This will generate and display a bar chart using `seaborn`. The chart will list genres along the y-axis with their respective frequencies along the x-axis, with the tallest bars indicating the most common genres.\u001b[0m\n",
            "\n",
            "\u001b[1m> Finished chain.\u001b[0m\n"
          ]
        },
        {
          "output_type": "execute_result",
          "data": {
            "text/plain": [
              "{'input': 'show the top 10 most frequent genres from the genre column in a bar chart',\n",
              " 'output': \"To visualize the top 10 most frequent genres from the 'genre' column, execute the provided Python code in your local environment. This will generate and display a bar chart using `seaborn`. The chart will list genres along the y-axis with their respective frequencies along the x-axis, with the tallest bars indicating the most common genres.\"}"
            ]
          },
          "metadata": {},
          "execution_count": 25
        }
      ]
    },
    {
      "cell_type": "markdown",
      "source": [
        "**Insight:**\n",
        "* Genre tidak diketahui (`Unknown Genre`) dominan menunjukkan banyak data yang tidak memiliki label genre yang jelas. Hal ini menurunkan kualitas metadata buku dan membatasi analisis genre lebih lanjut.\n",
        "* Genre Fiction dan Literary Criticism mendominasi yang menunjukkan bahwa sebagian besar buku dalam dataset bersifat naratif atau analitis/sastra.\n",
        "* Genre Pendidikan dan Sosial juga signifikan yang menandakan bahwa data mengandung banyak buku akademik.\n",
        "* Genre Spesifik Anak-Anak dan Ekonomi ada tapi kecil seperti Juvenile Fiction, Business & Economics, dan History relatif kecil tetapi tetap menonjol.\n",
        "\n"
      ],
      "metadata": {
        "id": "nLUEeA5thX-p"
      }
    },
    {
      "cell_type": "markdown",
      "source": [
        "**Rekomendasi :**\n",
        "* Memfokuskan koleksi untuk institusi akademik seperti buku bergenre Education, Social Science, Psychology, Business, dan History cocok dikurasi untuk perpustakaan universitas atau sekolah.\n",
        "* Membuat koleksi khusus genre Fiksi seperti “Fiksi Terbaik Tahun Ini” atau “Kritik Sastra Pilihan” sangat cocok untuk pembaca umum dan penggemar sastra."
      ],
      "metadata": {
        "id": "ws8BXt1Dimr8"
      }
    }
  ]
}